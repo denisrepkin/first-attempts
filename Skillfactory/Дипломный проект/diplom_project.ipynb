{
 "cells": [
  {
   "cell_type": "markdown",
   "metadata": {},
   "source": [
    "## <center>**Дипломный проект**"
   ]
  },
  {
   "cell_type": "markdown",
   "metadata": {},
   "source": [
    "#### <center>**Модель прогнозирования стоимости жилья для агентства недвижимости**"
   ]
  },
  {
   "cell_type": "markdown",
   "metadata": {},
   "source": [
    ">Автор: Репкин Денис\n",
    "\n",
    ">Специализация: Data Scientist\n",
    "\n",
    ">Группа: DST-128 "
   ]
  },
  {
   "cell_type": "markdown",
   "metadata": {},
   "source": [
    "<center> <img src=https://catherineasquithgallery.com/uploads/posts/2021-02/1613586625_80-p-foni-dlya-finansovikh-prezentatsii-105.jpg width=\"800\"/> </center>"
   ]
  },
  {
   "cell_type": "markdown",
   "metadata": {},
   "source": [
    "\n",
    "### **Цель проекта**\n",
    "Разработать модель, которая позволила бы агентству недвижимости обойти конкурентов по скорости и качеству совершения сделок, за счет внедрения алгоритма быстрого определения цены на недвижимость по его характеристикам.\n"
   ]
  },
  {
   "cell_type": "code",
   "execution_count": 2,
   "metadata": {},
   "outputs": [],
   "source": [
    "#импорт библиотек\n",
    "import numpy as np\n",
    "import pandas as pd\n",
    "\n",
    "import sweetviz as sv\n",
    "\n",
    "import seaborn as sns\n",
    "import matplotlib.pyplot as plt\n",
    "\n",
    "import category_encoders as ce \n",
    "import re\n",
    "\n",
    "from sklearn import datasets\n",
    "\n",
    "from sklearn.model_selection import train_test_split\n",
    "from sklearn.preprocessing import MinMaxScaler\n",
    "from sklearn.metrics import mean_squared_error\n",
    "from sklearn.metrics import r2_score\n",
    "from sklearn.metrics import mean_absolute_percentage_error\n",
    "from sklearn.linear_model import LinearRegression\n",
    "from sklearn.preprocessing import PolynomialFeatures\n",
    "from sklearn.linear_model import Ridge\n",
    "from sklearn.tree import DecisionTreeRegressor\n",
    "from sklearn.ensemble import RandomForestRegressor\n",
    "from sklearn.ensemble import GradientBoostingRegressor\n",
    "from sklearn.model_selection import GridSearchCV\n",
    "\n",
    "import pickle\n",
    "from flask import Flask, request, jsonify\n",
    "import requests"
   ]
  },
  {
   "cell_type": "code",
   "execution_count": 61,
   "metadata": {},
   "outputs": [],
   "source": [
    "#создаем файл окружения для воспроизводимости кода\n",
    "#!pip freeze > requirements.txt"
   ]
  },
  {
   "cell_type": "code",
   "execution_count": 3,
   "metadata": {},
   "outputs": [
    {
     "data": {
      "text/html": [
       "<div>\n",
       "<style scoped>\n",
       "    .dataframe tbody tr th:only-of-type {\n",
       "        vertical-align: middle;\n",
       "    }\n",
       "\n",
       "    .dataframe tbody tr th {\n",
       "        vertical-align: top;\n",
       "    }\n",
       "\n",
       "    .dataframe thead th {\n",
       "        text-align: right;\n",
       "    }\n",
       "</style>\n",
       "<table border=\"1\" class=\"dataframe\">\n",
       "  <thead>\n",
       "    <tr style=\"text-align: right;\">\n",
       "      <th></th>\n",
       "      <th>status</th>\n",
       "      <th>private pool</th>\n",
       "      <th>propertyType</th>\n",
       "      <th>street</th>\n",
       "      <th>baths</th>\n",
       "      <th>homeFacts</th>\n",
       "      <th>fireplace</th>\n",
       "      <th>city</th>\n",
       "      <th>schools</th>\n",
       "      <th>sqft</th>\n",
       "      <th>zipcode</th>\n",
       "      <th>beds</th>\n",
       "      <th>state</th>\n",
       "      <th>stories</th>\n",
       "      <th>mls-id</th>\n",
       "      <th>PrivatePool</th>\n",
       "      <th>MlsId</th>\n",
       "      <th>target</th>\n",
       "    </tr>\n",
       "  </thead>\n",
       "  <tbody>\n",
       "    <tr>\n",
       "      <th>0</th>\n",
       "      <td>Active</td>\n",
       "      <td>NaN</td>\n",
       "      <td>Single Family Home</td>\n",
       "      <td>240 Heather Ln</td>\n",
       "      <td>3.5</td>\n",
       "      <td>{'atAGlanceFacts': [{'factValue': '2019', 'fac...</td>\n",
       "      <td>Gas Logs</td>\n",
       "      <td>Southern Pines</td>\n",
       "      <td>[{'rating': ['4', '4', '7', 'NR', '4', '7', 'N...</td>\n",
       "      <td>2900</td>\n",
       "      <td>28387</td>\n",
       "      <td>4</td>\n",
       "      <td>NC</td>\n",
       "      <td>NaN</td>\n",
       "      <td>NaN</td>\n",
       "      <td>NaN</td>\n",
       "      <td>611019</td>\n",
       "      <td>$418,000</td>\n",
       "    </tr>\n",
       "    <tr>\n",
       "      <th>1</th>\n",
       "      <td>for sale</td>\n",
       "      <td>NaN</td>\n",
       "      <td>single-family home</td>\n",
       "      <td>12911 E Heroy Ave</td>\n",
       "      <td>3 Baths</td>\n",
       "      <td>{'atAGlanceFacts': [{'factValue': '2019', 'fac...</td>\n",
       "      <td>NaN</td>\n",
       "      <td>Spokane Valley</td>\n",
       "      <td>[{'rating': ['4/10', 'None/10', '4/10'], 'data...</td>\n",
       "      <td>1,947 sqft</td>\n",
       "      <td>99216</td>\n",
       "      <td>3 Beds</td>\n",
       "      <td>WA</td>\n",
       "      <td>2.0</td>\n",
       "      <td>NaN</td>\n",
       "      <td>NaN</td>\n",
       "      <td>201916904</td>\n",
       "      <td>$310,000</td>\n",
       "    </tr>\n",
       "    <tr>\n",
       "      <th>2</th>\n",
       "      <td>for sale</td>\n",
       "      <td>NaN</td>\n",
       "      <td>single-family home</td>\n",
       "      <td>2005 Westridge Rd</td>\n",
       "      <td>2 Baths</td>\n",
       "      <td>{'atAGlanceFacts': [{'factValue': '1961', 'fac...</td>\n",
       "      <td>yes</td>\n",
       "      <td>Los Angeles</td>\n",
       "      <td>[{'rating': ['8/10', '4/10', '8/10'], 'data': ...</td>\n",
       "      <td>3,000 sqft</td>\n",
       "      <td>90049</td>\n",
       "      <td>3 Beds</td>\n",
       "      <td>CA</td>\n",
       "      <td>1.0</td>\n",
       "      <td>NaN</td>\n",
       "      <td>yes</td>\n",
       "      <td>FR19221027</td>\n",
       "      <td>$2,895,000</td>\n",
       "    </tr>\n",
       "    <tr>\n",
       "      <th>3</th>\n",
       "      <td>for sale</td>\n",
       "      <td>NaN</td>\n",
       "      <td>single-family home</td>\n",
       "      <td>4311 Livingston Ave</td>\n",
       "      <td>8 Baths</td>\n",
       "      <td>{'atAGlanceFacts': [{'factValue': '2006', 'fac...</td>\n",
       "      <td>yes</td>\n",
       "      <td>Dallas</td>\n",
       "      <td>[{'rating': ['9/10', '9/10', '10/10', '9/10'],...</td>\n",
       "      <td>6,457 sqft</td>\n",
       "      <td>75205</td>\n",
       "      <td>5 Beds</td>\n",
       "      <td>TX</td>\n",
       "      <td>3.0</td>\n",
       "      <td>NaN</td>\n",
       "      <td>NaN</td>\n",
       "      <td>14191809</td>\n",
       "      <td>$2,395,000</td>\n",
       "    </tr>\n",
       "    <tr>\n",
       "      <th>4</th>\n",
       "      <td>for sale</td>\n",
       "      <td>NaN</td>\n",
       "      <td>lot/land</td>\n",
       "      <td>1524 Kiscoe St</td>\n",
       "      <td>NaN</td>\n",
       "      <td>{'atAGlanceFacts': [{'factValue': '', 'factLab...</td>\n",
       "      <td>NaN</td>\n",
       "      <td>Palm Bay</td>\n",
       "      <td>[{'rating': ['4/10', '5/10', '5/10'], 'data': ...</td>\n",
       "      <td>NaN</td>\n",
       "      <td>32908</td>\n",
       "      <td>NaN</td>\n",
       "      <td>FL</td>\n",
       "      <td>NaN</td>\n",
       "      <td>NaN</td>\n",
       "      <td>NaN</td>\n",
       "      <td>861745</td>\n",
       "      <td>$5,000</td>\n",
       "    </tr>\n",
       "  </tbody>\n",
       "</table>\n",
       "</div>"
      ],
      "text/plain": [
       "     status private pool        propertyType               street    baths  \\\n",
       "0    Active          NaN  Single Family Home       240 Heather Ln      3.5   \n",
       "1  for sale          NaN  single-family home    12911 E Heroy Ave  3 Baths   \n",
       "2  for sale          NaN  single-family home    2005 Westridge Rd  2 Baths   \n",
       "3  for sale          NaN  single-family home  4311 Livingston Ave  8 Baths   \n",
       "4  for sale          NaN            lot/land       1524 Kiscoe St      NaN   \n",
       "\n",
       "                                           homeFacts fireplace  \\\n",
       "0  {'atAGlanceFacts': [{'factValue': '2019', 'fac...  Gas Logs   \n",
       "1  {'atAGlanceFacts': [{'factValue': '2019', 'fac...       NaN   \n",
       "2  {'atAGlanceFacts': [{'factValue': '1961', 'fac...       yes   \n",
       "3  {'atAGlanceFacts': [{'factValue': '2006', 'fac...       yes   \n",
       "4  {'atAGlanceFacts': [{'factValue': '', 'factLab...       NaN   \n",
       "\n",
       "             city                                            schools  \\\n",
       "0  Southern Pines  [{'rating': ['4', '4', '7', 'NR', '4', '7', 'N...   \n",
       "1  Spokane Valley  [{'rating': ['4/10', 'None/10', '4/10'], 'data...   \n",
       "2     Los Angeles  [{'rating': ['8/10', '4/10', '8/10'], 'data': ...   \n",
       "3          Dallas  [{'rating': ['9/10', '9/10', '10/10', '9/10'],...   \n",
       "4        Palm Bay  [{'rating': ['4/10', '5/10', '5/10'], 'data': ...   \n",
       "\n",
       "         sqft zipcode    beds state stories mls-id PrivatePool       MlsId  \\\n",
       "0        2900   28387       4    NC     NaN    NaN         NaN      611019   \n",
       "1  1,947 sqft   99216  3 Beds    WA     2.0    NaN         NaN   201916904   \n",
       "2  3,000 sqft   90049  3 Beds    CA     1.0    NaN         yes  FR19221027   \n",
       "3  6,457 sqft   75205  5 Beds    TX     3.0    NaN         NaN    14191809   \n",
       "4         NaN   32908     NaN    FL     NaN    NaN         NaN      861745   \n",
       "\n",
       "       target  \n",
       "0    $418,000  \n",
       "1    $310,000  \n",
       "2  $2,895,000  \n",
       "3  $2,395,000  \n",
       "4      $5,000  "
      ]
     },
     "execution_count": 3,
     "metadata": {},
     "output_type": "execute_result"
    }
   ],
   "source": [
    "#прочитаем данные\n",
    "data = pd.read_csv('data.csv')\n",
    "data.head()"
   ]
  },
  {
   "cell_type": "markdown",
   "metadata": {},
   "source": [
    "**Описание признаков:**\n",
    "\n",
    "➔ 'status' — статус продажи;\n",
    "\n",
    "➔ 'private pool' и 'PrivatePool' — наличие собственного бассейна;\n",
    "\n",
    "➔ 'propertyType' — тип объекта недвижимости;\n",
    "\n",
    "➔ 'street' — адрес объекта;\n",
    "\n",
    "➔ 'baths' — количество ванных комнат;\n",
    "\n",
    "➔ 'homeFacts' — сведения о строительстве объекта (содержит несколько типов сведений, влияющих на оценку объекта);\n",
    "\n",
    "➔ 'fireplace' — наличие камина;\n",
    "\n",
    "➔ 'city' — город;\n",
    "\n",
    "➔ 'schools' — сведения о школах в районе;\n",
    "\n",
    "➔ 'sqft' — площадь в футах;\n",
    "\n",
    "➔ 'zipcode' — почтовый индекс;\n",
    "\n",
    "➔ 'beds' — количество спален;\n",
    "\n",
    "➔ 'state' — штат;\n",
    "\n",
    "➔ 'stories' — количество этажей;\n",
    "\n",
    "➔ 'mls-id' и 'MlsId' — идентификатор MLS (Multiple Listing Service, система мультилистинга);\n",
    "\n",
    "➔ **'target' — цена объекта недвижимости (целевой признак, который необходимо спрогнозировать).**\n"
   ]
  },
  {
   "cell_type": "code",
   "execution_count": 4,
   "metadata": {},
   "outputs": [
    {
     "name": "stdout",
     "output_type": "stream",
     "text": [
      "<class 'pandas.core.frame.DataFrame'>\n",
      "RangeIndex: 377185 entries, 0 to 377184\n",
      "Data columns (total 18 columns):\n",
      " #   Column        Non-Null Count   Dtype \n",
      "---  ------        --------------   ----- \n",
      " 0   status        337267 non-null  object\n",
      " 1   private pool  4181 non-null    object\n",
      " 2   propertyType  342452 non-null  object\n",
      " 3   street        377183 non-null  object\n",
      " 4   baths         270847 non-null  object\n",
      " 5   homeFacts     377185 non-null  object\n",
      " 6   fireplace     103115 non-null  object\n",
      " 7   city          377151 non-null  object\n",
      " 8   schools       377185 non-null  object\n",
      " 9   sqft          336608 non-null  object\n",
      " 10  zipcode       377185 non-null  object\n",
      " 11  beds          285903 non-null  object\n",
      " 12  state         377185 non-null  object\n",
      " 13  stories       226470 non-null  object\n",
      " 14  mls-id        24942 non-null   object\n",
      " 15  PrivatePool   40311 non-null   object\n",
      " 16  MlsId         310305 non-null  object\n",
      " 17  target        374704 non-null  object\n",
      "dtypes: object(18)\n",
      "memory usage: 51.8+ MB\n"
     ]
    }
   ],
   "source": [
    "data.info()"
   ]
  },
  {
   "cell_type": "code",
   "execution_count": 28,
   "metadata": {},
   "outputs": [
    {
     "data": {
      "application/vnd.jupyter.widget-view+json": {
       "model_id": "72e161eb9c9c4224988a232b2d04aa3d",
       "version_major": 2,
       "version_minor": 0
      },
      "text/plain": [
       "                                             |          | [  0%]   00:00 -> (? left)"
      ]
     },
     "metadata": {},
     "output_type": "display_data"
    },
    {
     "name": "stdout",
     "output_type": "stream",
     "text": [
      "Report SWEETVIZ_REPORT.html was generated! NOTEBOOK/COLAB USERS: the web browser MAY not pop up, regardless, the report IS saved in your notebook/colab files.\n",
      "ERROR: comet_ml is installed, but not configured properly (e.g. check API key setup). HTML reports will not be uploaded.\n"
     ]
    }
   ],
   "source": [
    "#проведем первичное исследование \"сырых\" данных c помощью библиотеки автоматического анализа Sweetviz:\n",
    "report = sv.analyze(data)\n",
    "report.show_html()"
   ]
  },
  {
   "cell_type": "markdown",
   "metadata": {},
   "source": [
    "Согласно экспресс-отчету:\n",
    "- в данных содержится 50 дублированных строк;\n",
    "- из 18 признаков: 3 категориальных, 15 - текстовых, числовых признаков не содержится; \n",
    "- признаки \"mls-id\", \"private pool\" и \"PrivatePool\" имеют более чем 90% пропущенных значений;\n",
    "\n",
    "**Вывод:** \"сырые\" данные не позволяют получить значимое количество информации, поэтому продолжим наши исследования.\n"
   ]
  },
  {
   "cell_type": "markdown",
   "metadata": {},
   "source": [
    "### **Очистка и подготовка данных**"
   ]
  },
  {
   "cell_type": "code",
   "execution_count": 5,
   "metadata": {},
   "outputs": [
    {
     "data": {
      "text/plain": [
       "(377185, 18)"
      ]
     },
     "metadata": {},
     "output_type": "display_data"
    },
    {
     "data": {
      "text/plain": [
       "(377135, 18)"
      ]
     },
     "metadata": {},
     "output_type": "display_data"
    }
   ],
   "source": [
    "#удалим дублирующиеся строки\n",
    "display(data.shape)\n",
    "data.drop_duplicates(inplace=True)\n",
    "display(data.shape)"
   ]
  },
  {
   "cell_type": "code",
   "execution_count": 6,
   "metadata": {},
   "outputs": [
    {
     "data": {
      "text/plain": [
       "(377135, 18)"
      ]
     },
     "metadata": {},
     "output_type": "display_data"
    },
    {
     "data": {
      "text/plain": [
       "(374655, 18)"
      ]
     },
     "metadata": {},
     "output_type": "display_data"
    }
   ],
   "source": [
    "#удалим строки с пропущенными значениями в целевом признаке target\n",
    "display(data.shape)\n",
    "data.dropna(subset = ['target'], inplace=True)\n",
    "display(data.shape)"
   ]
  },
  {
   "cell_type": "code",
   "execution_count": 7,
   "metadata": {},
   "outputs": [
    {
     "data": {
      "text/plain": [
       "private pool    98.892047\n",
       "mls-id          93.344010\n",
       "PrivatePool     89.291481\n",
       "fireplace       72.636426\n",
       "stories         39.970907\n",
       "baths           28.118402\n",
       "beds            24.270062\n",
       "MlsId           17.207297\n",
       "sqft            10.701846\n",
       "status          10.477906\n",
       "propertyType     9.222885\n",
       "city             0.009075\n",
       "street           0.000534\n",
       "dtype: float64"
      ]
     },
     "metadata": {},
     "output_type": "display_data"
    }
   ],
   "source": [
    "#вычислим средний по столбцам результат метода isnull() и посмотрим долю пропусков в каждом столбце\n",
    "cols_null_percent = data.isnull().mean() * 100\n",
    "cols_with_null = cols_null_percent[cols_null_percent>0].sort_values(ascending=False)\n",
    "display(cols_with_null)"
   ]
  },
  {
   "cell_type": "code",
   "execution_count": 8,
   "metadata": {},
   "outputs": [
    {
     "name": "stdout",
     "output_type": "stream",
     "text": [
      "<class 'pandas.core.frame.DataFrame'>\n",
      "Int64Index: 374655 entries, 0 to 377184\n",
      "Data columns (total 12 columns):\n",
      " #   Column        Non-Null Count   Dtype \n",
      "---  ------        --------------   ----- \n",
      " 0   status        335399 non-null  object\n",
      " 1   propertyType  340101 non-null  object\n",
      " 2   street        374653 non-null  object\n",
      " 3   baths         269308 non-null  object\n",
      " 4   homeFacts     374655 non-null  object\n",
      " 5   city          374621 non-null  object\n",
      " 6   schools       374655 non-null  object\n",
      " 7   sqft          334560 non-null  object\n",
      " 8   beds          283726 non-null  object\n",
      " 9   state         374655 non-null  object\n",
      " 10  stories       224902 non-null  object\n",
      " 11  target        374655 non-null  object\n",
      "dtypes: object(12)\n",
      "memory usage: 37.2+ MB\n"
     ]
    },
    {
     "data": {
      "text/html": [
       "<div>\n",
       "<style scoped>\n",
       "    .dataframe tbody tr th:only-of-type {\n",
       "        vertical-align: middle;\n",
       "    }\n",
       "\n",
       "    .dataframe tbody tr th {\n",
       "        vertical-align: top;\n",
       "    }\n",
       "\n",
       "    .dataframe thead th {\n",
       "        text-align: right;\n",
       "    }\n",
       "</style>\n",
       "<table border=\"1\" class=\"dataframe\">\n",
       "  <thead>\n",
       "    <tr style=\"text-align: right;\">\n",
       "      <th></th>\n",
       "      <th>status</th>\n",
       "      <th>propertyType</th>\n",
       "      <th>street</th>\n",
       "      <th>baths</th>\n",
       "      <th>homeFacts</th>\n",
       "      <th>city</th>\n",
       "      <th>schools</th>\n",
       "      <th>sqft</th>\n",
       "      <th>beds</th>\n",
       "      <th>state</th>\n",
       "      <th>stories</th>\n",
       "      <th>target</th>\n",
       "    </tr>\n",
       "  </thead>\n",
       "  <tbody>\n",
       "    <tr>\n",
       "      <th>0</th>\n",
       "      <td>Active</td>\n",
       "      <td>Single Family Home</td>\n",
       "      <td>240 Heather Ln</td>\n",
       "      <td>3.5</td>\n",
       "      <td>{'atAGlanceFacts': [{'factValue': '2019', 'fac...</td>\n",
       "      <td>Southern Pines</td>\n",
       "      <td>[{'rating': ['4', '4', '7', 'NR', '4', '7', 'N...</td>\n",
       "      <td>2900</td>\n",
       "      <td>4</td>\n",
       "      <td>NC</td>\n",
       "      <td>NaN</td>\n",
       "      <td>$418,000</td>\n",
       "    </tr>\n",
       "    <tr>\n",
       "      <th>1</th>\n",
       "      <td>for sale</td>\n",
       "      <td>single-family home</td>\n",
       "      <td>12911 E Heroy Ave</td>\n",
       "      <td>3 Baths</td>\n",
       "      <td>{'atAGlanceFacts': [{'factValue': '2019', 'fac...</td>\n",
       "      <td>Spokane Valley</td>\n",
       "      <td>[{'rating': ['4/10', 'None/10', '4/10'], 'data...</td>\n",
       "      <td>1,947 sqft</td>\n",
       "      <td>3 Beds</td>\n",
       "      <td>WA</td>\n",
       "      <td>2.0</td>\n",
       "      <td>$310,000</td>\n",
       "    </tr>\n",
       "    <tr>\n",
       "      <th>2</th>\n",
       "      <td>for sale</td>\n",
       "      <td>single-family home</td>\n",
       "      <td>2005 Westridge Rd</td>\n",
       "      <td>2 Baths</td>\n",
       "      <td>{'atAGlanceFacts': [{'factValue': '1961', 'fac...</td>\n",
       "      <td>Los Angeles</td>\n",
       "      <td>[{'rating': ['8/10', '4/10', '8/10'], 'data': ...</td>\n",
       "      <td>3,000 sqft</td>\n",
       "      <td>3 Beds</td>\n",
       "      <td>CA</td>\n",
       "      <td>1.0</td>\n",
       "      <td>$2,895,000</td>\n",
       "    </tr>\n",
       "    <tr>\n",
       "      <th>3</th>\n",
       "      <td>for sale</td>\n",
       "      <td>single-family home</td>\n",
       "      <td>4311 Livingston Ave</td>\n",
       "      <td>8 Baths</td>\n",
       "      <td>{'atAGlanceFacts': [{'factValue': '2006', 'fac...</td>\n",
       "      <td>Dallas</td>\n",
       "      <td>[{'rating': ['9/10', '9/10', '10/10', '9/10'],...</td>\n",
       "      <td>6,457 sqft</td>\n",
       "      <td>5 Beds</td>\n",
       "      <td>TX</td>\n",
       "      <td>3.0</td>\n",
       "      <td>$2,395,000</td>\n",
       "    </tr>\n",
       "    <tr>\n",
       "      <th>4</th>\n",
       "      <td>for sale</td>\n",
       "      <td>lot/land</td>\n",
       "      <td>1524 Kiscoe St</td>\n",
       "      <td>NaN</td>\n",
       "      <td>{'atAGlanceFacts': [{'factValue': '', 'factLab...</td>\n",
       "      <td>Palm Bay</td>\n",
       "      <td>[{'rating': ['4/10', '5/10', '5/10'], 'data': ...</td>\n",
       "      <td>NaN</td>\n",
       "      <td>NaN</td>\n",
       "      <td>FL</td>\n",
       "      <td>NaN</td>\n",
       "      <td>$5,000</td>\n",
       "    </tr>\n",
       "  </tbody>\n",
       "</table>\n",
       "</div>"
      ],
      "text/plain": [
       "     status        propertyType               street    baths  \\\n",
       "0    Active  Single Family Home       240 Heather Ln      3.5   \n",
       "1  for sale  single-family home    12911 E Heroy Ave  3 Baths   \n",
       "2  for sale  single-family home    2005 Westridge Rd  2 Baths   \n",
       "3  for sale  single-family home  4311 Livingston Ave  8 Baths   \n",
       "4  for sale            lot/land       1524 Kiscoe St      NaN   \n",
       "\n",
       "                                           homeFacts            city  \\\n",
       "0  {'atAGlanceFacts': [{'factValue': '2019', 'fac...  Southern Pines   \n",
       "1  {'atAGlanceFacts': [{'factValue': '2019', 'fac...  Spokane Valley   \n",
       "2  {'atAGlanceFacts': [{'factValue': '1961', 'fac...     Los Angeles   \n",
       "3  {'atAGlanceFacts': [{'factValue': '2006', 'fac...          Dallas   \n",
       "4  {'atAGlanceFacts': [{'factValue': '', 'factLab...        Palm Bay   \n",
       "\n",
       "                                             schools        sqft    beds  \\\n",
       "0  [{'rating': ['4', '4', '7', 'NR', '4', '7', 'N...        2900       4   \n",
       "1  [{'rating': ['4/10', 'None/10', '4/10'], 'data...  1,947 sqft  3 Beds   \n",
       "2  [{'rating': ['8/10', '4/10', '8/10'], 'data': ...  3,000 sqft  3 Beds   \n",
       "3  [{'rating': ['9/10', '9/10', '10/10', '9/10'],...  6,457 sqft  5 Beds   \n",
       "4  [{'rating': ['4/10', '5/10', '5/10'], 'data': ...         NaN     NaN   \n",
       "\n",
       "  state stories      target  \n",
       "0    NC     NaN    $418,000  \n",
       "1    WA     2.0    $310,000  \n",
       "2    CA     1.0  $2,895,000  \n",
       "3    TX     3.0  $2,395,000  \n",
       "4    FL     NaN      $5,000  "
      ]
     },
     "execution_count": 8,
     "metadata": {},
     "output_type": "execute_result"
    }
   ],
   "source": [
    "#удаляем признаки с количеством пропусков более 40%, а также малоинформативный признаки MlsId и zipcode\n",
    "data = data.drop(['private pool', 'mls-id', 'PrivatePool', 'fireplace', 'MlsId', 'zipcode'], axis=1)\n",
    "\n",
    "data.info()\n",
    "data.head(5)\n"
   ]
  },
  {
   "cell_type": "markdown",
   "metadata": {},
   "source": [
    "**Работа с признаком target**"
   ]
  },
  {
   "cell_type": "code",
   "execution_count": 9,
   "metadata": {},
   "outputs": [
    {
     "data": {
      "text/plain": [
       "$225,000     1462\n",
       "$275,000     1355\n",
       "$250,000     1312\n",
       "$350,000     1296\n",
       "$299,900     1276\n",
       "             ... \n",
       "274,359         1\n",
       "$273,490+       1\n",
       "$645,000+       1\n",
       "$28,272         1\n",
       "$171,306        1\n",
       "Name: target, Length: 43939, dtype: int64"
      ]
     },
     "execution_count": 9,
     "metadata": {},
     "output_type": "execute_result"
    }
   ],
   "source": [
    "data.target.value_counts()"
   ]
  },
  {
   "cell_type": "code",
   "execution_count": 10,
   "metadata": {},
   "outputs": [
    {
     "data": {
      "text/plain": [
       "$2,200/mo    11\n",
       "$1,100/mo    11\n",
       "$3,500/mo    10\n",
       "$2,000/mo    10\n",
       "$1,200/mo    10\n",
       "             ..\n",
       "$3,950/mo     1\n",
       "$3,050/mo     1\n",
       "$3,450/mo     1\n",
       "$1,799/mo     1\n",
       "$890/mo       1\n",
       "Name: target, Length: 150, dtype: int64"
      ]
     },
     "execution_count": 10,
     "metadata": {},
     "output_type": "execute_result"
    }
   ],
   "source": [
    "data[data.target.str.contains('mo', na=False)]['target'].value_counts()"
   ]
  },
  {
   "cell_type": "code",
   "execution_count": 11,
   "metadata": {},
   "outputs": [
    {
     "data": {
      "text/plain": [
       "$1,215 - $1,437/mo    1\n",
       "Name: target, dtype: int64"
      ]
     },
     "execution_count": 11,
     "metadata": {},
     "output_type": "execute_result"
    }
   ],
   "source": [
    "data[data.target.str.contains('-', na=False)]['target'].value_counts()"
   ]
  },
  {
   "cell_type": "code",
   "execution_count": 12,
   "metadata": {},
   "outputs": [
    {
     "data": {
      "text/plain": [
       "1.326"
      ]
     },
     "execution_count": 12,
     "metadata": {},
     "output_type": "execute_result"
    }
   ],
   "source": [
    "np.mean([1.437, 1.215])"
   ]
  },
  {
   "cell_type": "code",
   "execution_count": 13,
   "metadata": {},
   "outputs": [],
   "source": [
    "data.loc[data.target=='$1,215 - $1,437/mo', 'target'] = '1,326'"
   ]
  },
  {
   "cell_type": "code",
   "execution_count": 14,
   "metadata": {},
   "outputs": [],
   "source": [
    "target_dict = {'^\\$':'',\\\n",
    "                '\\+':'',\\\n",
    "                '\\/mo$':'',\\\n",
    "                '\\,+':''\n",
    "\n",
    "    }\n",
    "data.target = data.target.replace(target_dict, regex=True)\n",
    "\n",
    "#преобразуем столбец target в числовой тип\n",
    "data.target = pd.to_numeric(data.target)"
   ]
  },
  {
   "cell_type": "code",
   "execution_count": 15,
   "metadata": {},
   "outputs": [],
   "source": [
    "#проверим на выбросы для этого воспользуемся функциями:\n",
    "\n",
    "def tukey_outlier(data, col, log_scale=False, m=1):\n",
    "    \"\"\"\n",
    "    Performs Tukey's outlier detection on a specified column of a dataframe.\n",
    "\n",
    "    Args:\n",
    "        data (DataFrame): The input dataframe.\n",
    "        col (str): The column where outliers need to be detected.\n",
    "        m (int): Number to add before log rescaling\n",
    "\n",
    "    Returns:\n",
    "        DataFrame: Outliers that fall outside the outlier borders, 25, 75 percentile, IQR and outlier borders\n",
    "    \"\"\"\n",
    "    if log_scale:\n",
    "        x = np.log(data[col]+m)\n",
    "        print('Outliers are detected in log scale')\n",
    "    else:\n",
    "        x = data[col]\n",
    "    Q1 = x.quantile(0.25)\n",
    "    Q3 = x.quantile(0.75)\n",
    "    IQR = Q3-Q1\n",
    "    lb = Q1 - 1.5*IQR\n",
    "    hb = Q3 + 1.5*IQR\n",
    "    print(\n",
    "        '25 percentile: {},'.format(Q1),\n",
    "        '75 percentile: {},'.format(Q3),\n",
    "        \"IQR: {}, \".format(IQR),\n",
    "        \"Outlier borders: [{lb}, {hb}].\".format(lb=lb, hb=hb))\n",
    "    outliers = data[(x < lb) | (x > hb)]\n",
    "    return outliers\n",
    "\n",
    "\n",
    "def outliers_z_score(data, feature, log_scale=False, m=1):\n",
    "    \"\"\"\n",
    "    Performs z-score outlier detection on a specified column of a dataframe.\n",
    "\n",
    "    Args:\n",
    "        data (DataFrame): The input dataframe.\n",
    "        feature (str): The column where outliers need to be detected.\n",
    "        log_scale (bool): If True, search for outliers in log scale.\n",
    "        m (int): Number to add before log rescaling\n",
    "\n",
    "    Returns:\n",
    "        DataFrame: Outliers that fall outside the lower and upper outlier bounds, lower & upper outlier bound\n",
    "    \"\"\"\n",
    "    if log_scale:\n",
    "        x = np.log(data[feature]+m)\n",
    "        print('Outliers are detected in log scale')\n",
    "    else:\n",
    "        x = data[feature]\n",
    "    mu = x.mean()\n",
    "    sigma = x.std()\n",
    "    lower_bound = mu - 3 * sigma\n",
    "    upper_bound = mu + 3 * sigma\n",
    "    outliers = data[(x < lower_bound) | (x > upper_bound)]\n",
    "    print (f'z score lower bound {lower_bound}')\n",
    "    print(f'z score upper bound {upper_bound}')\n",
    "    return outliers\n",
    "\n",
    "\n",
    "def distribution(data, col, n=20, m=1):\n",
    "    \"\"\"\n",
    "    Plots the histogram and boxplot of a specified column in a dataframe.\n",
    "\n",
    "    Args:\n",
    "        data (DataFrame): The input dataframe.\n",
    "        col (str): The column to plot.\n",
    "        n (int): Number of bins in the histogram.\n",
    "        m (int): Number to add before log rescaling\n",
    "    \"\"\"\n",
    "    fig, axes = plt.subplots(nrows=2, ncols=2, figsize=(15, 8))\n",
    "\n",
    "    # Plot histogram with normal values\n",
    "    histplot1 = sns.histplot(data=data, x=col, bins=n, ax=axes[0, 0])\n",
    "    histplot1.set_title(f'{col} distribution')\n",
    "\n",
    "    # Plot histogram with log-transformed values\n",
    "    histplot2 = sns.histplot(data=data, x=np.log(data[col]+m), bins=n, ax=axes[1, 0])\n",
    "    histplot2.set_title(f'log scale {col} distribution')\n",
    "\n",
    "    # Plot boxplot with normal values\n",
    "    boxplot1 = sns.boxplot(data=data, x=col, ax=axes[0, 1])\n",
    "    boxplot1.set_title(f'{col} boxplot')\n",
    "\n",
    "    # Plot boxplot with log-transformed values\n",
    "    boxplot2 = sns.boxplot(data=data, x=np.log(data[col]+m), ax=axes[1, 1])\n",
    "    boxplot2.set_title(f'log scale {col} boxplot')\n",
    "\n",
    "    # Fix layout\n",
    "    plt.tight_layout()\n",
    "\n",
    "    # Show the plots\n",
    "    plt.show()\n",
    "\n",
    "def outlier_analysis(data, column, m=1, n=100):\n",
    "    \"\"\"\n",
    "    Perform an outlier analysis in a specified column in a dataframe.\n",
    "\n",
    "    Args:\n",
    "        data (DataFrame): The input dataframe.\n",
    "        column (str): The column where outliers need to be detected.\n",
    "        n (int): Number of bins in the histogram.\n",
    "        m (int): Number to add before log rescaling\n",
    "    \"\"\"\n",
    "    outl_tukey = tukey_outlier(data, column, log_scale=False, m=m)\n",
    "    print(f'Number of Tukey outliers in {column} column - {outl_tukey.shape[0]}')\n",
    "    print('')\n",
    "\n",
    "    outl_tukey_log = tukey_outlier(data, column, log_scale=True, m=m)\n",
    "    print(f'Number of Tukey outliers in log {column} column - {outl_tukey_log.shape[0]}')\n",
    "    print('')\n",
    "\n",
    "    outl_z = outliers_z_score(data, column, log_scale=False, m=m)\n",
    "    print(f'Number of z score outliers in {column} column - {outl_z.shape[0]}')\n",
    "    print('')\n",
    "\n",
    "    outl_z_log = outliers_z_score(data, column, log_scale=True, m=m)\n",
    "    print(f'Number of z score outliers in log {column} column - {outl_z_log.shape[0]}')\n",
    "    print('')\n",
    "\n",
    "    distribution(data, column, n=n, m=m)\n",
    "\n",
    "    return {\n",
    "        'outliers_tukey': outl_tukey,\n",
    "        'outliers_tukey_log': outl_tukey_log,\n",
    "        'outliers_z': outl_z,\n",
    "        'outliers_z_log': outl_z_log\n",
    "    }"
   ]
  },
  {
   "cell_type": "code",
   "execution_count": 16,
   "metadata": {},
   "outputs": [
    {
     "name": "stdout",
     "output_type": "stream",
     "text": [
      "25 percentile: 186990.0, 75 percentile: 582000.0, IQR: 395010.0,  Outlier borders: [-405525.0, 1174515.0].\n",
      "Number of Tukey outliers in target column - 38413\n",
      "\n",
      "Outliers are detected in log scale\n",
      "25 percentile: 12.138815766336272, 75 percentile: 13.274227444925158, IQR: 1.135411678588886,  Outlier borders: [10.435698248452944, 14.977344962808488].\n",
      "Number of Tukey outliers in log target column - 26747\n",
      "\n",
      "z score lower bound -4879432.139571512\n",
      "z score upper bound 6168886.471044468\n",
      "Number of z score outliers in target column - 3627\n",
      "\n",
      "Outliers are detected in log scale\n",
      "z score lower bound 9.021204860974613\n",
      "z score upper bound 16.25987747976213\n",
      "Number of z score outliers in log target column - 6232\n",
      "\n"
     ]
    },
    {
     "data": {
      "image/png": "[encoded data removed]",
      "text/plain": [
       "<Figure size 1080x576 with 4 Axes>"
      ]
     },
     "metadata": {
      "needs_background": "light"
     },
     "output_type": "display_data"
    }
   ],
   "source": [
    "col = 'target'\n",
    "outliers = outlier_analysis(data, col, m=1, n=100)"
   ]
  },
  {
   "cell_type": "code",
   "execution_count": 17,
   "metadata": {},
   "outputs": [],
   "source": [
    "#удалим выбросы\n",
    "data.drop(data.loc[np.log(data.target)<5].index, inplace=True)\n",
    "\n",
    "data.drop(data.loc[np.log(data.target)>17.5].index, inplace=True)"
   ]
  },
  {
   "cell_type": "markdown",
   "metadata": {},
   "source": [
    "**Работа с признаком status**"
   ]
  },
  {
   "cell_type": "markdown",
   "metadata": {},
   "source": [
    "..."
   ]
  },
  {
   "cell_type": "markdown",
   "metadata": {},
   "source": [
    "**Работа с признаком propertyType**"
   ]
  },
  {
   "cell_type": "markdown",
   "metadata": {},
   "source": [
    "..."
   ]
  },
  {
   "cell_type": "markdown",
   "metadata": {},
   "source": [
    "##### <span style=\"color:red\"> *К сожалению, датасет оказался очень сложным для меня. Все мои усилия по преведению данных в вид, пригодный для последующего моделирования, не увенчались успехом. Ниже я привожу работу моделей регрессии, которые применял бы в случае если этап очистки данных был бы успешен. В качестве проверочного использовался учебный датасет из библиотеки sklearn datasets* </span>  "
   ]
  },
  {
   "cell_type": "markdown",
   "metadata": {},
   "source": [
    "### **Построение моделей прогнозирования**"
   ]
  },
  {
   "cell_type": "code",
   "execution_count": null,
   "metadata": {},
   "outputs": [],
   "source": [
    "#отделение целевого признака от факторов\n",
    "X = data.drop(['target'], axis=1)\n",
    "y = data['target']"
   ]
  },
  {
   "cell_type": "code",
   "execution_count": null,
   "metadata": {},
   "outputs": [],
   "source": [
    "#разделение выборки на обучающую и тестовую\n",
    "X_train, X_test, y_train, y_test = train_test_split(X, y, test_size=0.2, random_state=42)"
   ]
  },
  {
   "cell_type": "code",
   "execution_count": 2,
   "metadata": {},
   "outputs": [],
   "source": [
    "#импортируем учебный датасет для проверки работы моделей\n",
    "from sklearn import datasets\n",
    "\n",
    "iris = datasets.load_iris()\n",
    "X = iris.data\n",
    "y = iris.target"
   ]
  },
  {
   "cell_type": "code",
   "execution_count": 3,
   "metadata": {},
   "outputs": [],
   "source": [
    "#разделение выборки на обучающую и тестовую\n",
    "X_train, X_test, y_train, y_test = train_test_split(X, y, test_size=0.2, random_state=42)"
   ]
  },
  {
   "cell_type": "code",
   "execution_count": 4,
   "metadata": {},
   "outputs": [],
   "source": [
    "#нормализуем обучающую и тестовую выборки с помощью MinMaxScaler из библиотеки sklearn\n",
    "scaler = MinMaxScaler()\n",
    "X_train_scaled = scaler.fit_transform(X_train)\n",
    "X_test_scaled = scaler.transform(X_test)"
   ]
  },
  {
   "cell_type": "markdown",
   "metadata": {},
   "source": [
    "#### Линейная регрессия"
   ]
  },
  {
   "cell_type": "code",
   "execution_count": 5,
   "metadata": {},
   "outputs": [
    {
     "data": {
      "text/html": [
       "<div>\n",
       "<style scoped>\n",
       "    .dataframe tbody tr th:only-of-type {\n",
       "        vertical-align: middle;\n",
       "    }\n",
       "\n",
       "    .dataframe tbody tr th {\n",
       "        vertical-align: top;\n",
       "    }\n",
       "\n",
       "    .dataframe thead th {\n",
       "        text-align: right;\n",
       "    }\n",
       "</style>\n",
       "<table border=\"1\" class=\"dataframe\">\n",
       "  <thead>\n",
       "    <tr style=\"text-align: right;\">\n",
       "      <th></th>\n",
       "      <th>Method</th>\n",
       "      <th>Training RMSE</th>\n",
       "      <th>Training R2</th>\n",
       "      <th>Test RMSE</th>\n",
       "      <th>Test R2</th>\n",
       "    </tr>\n",
       "  </thead>\n",
       "  <tbody>\n",
       "    <tr>\n",
       "      <th>0</th>\n",
       "      <td>Linear regression</td>\n",
       "      <td>0.22</td>\n",
       "      <td>0.92542</td>\n",
       "      <td>0.19</td>\n",
       "      <td>0.946896</td>\n",
       "    </tr>\n",
       "  </tbody>\n",
       "</table>\n",
       "</div>"
      ],
      "text/plain": [
       "              Method Training RMSE Training R2 Test RMSE   Test R2\n",
       "0  Linear regression          0.22     0.92542      0.19  0.946896"
      ]
     },
     "execution_count": 5,
     "metadata": {},
     "output_type": "execute_result"
    }
   ],
   "source": [
    "#модель\n",
    "lr = LinearRegression()\n",
    "\n",
    "#обучение\n",
    "lr.fit(X_train_scaled, y_train)\n",
    "#предсказание\n",
    "y_train_pred = lr.predict(X_train_scaled)\n",
    "y_test_pred = lr.predict(X_test_scaled)\n",
    "\n",
    "#расчёт показателей производительности модели RMSE и R2 (коэффициент детерминации)\n",
    "lr_train_rmse = round(mean_squared_error(y_train, y_train_pred)**.5, 2)\n",
    "lr_train_r2 = r2_score(y_train, y_train_pred)\n",
    "lr_test_rmse = round(mean_squared_error(y_test, y_test_pred)**.5, 2)\n",
    "lr_test_r2 = r2_score(y_test, y_test_pred)\n",
    "\n",
    "#отображение результатов\n",
    "lr_results = pd.DataFrame(['Linear regression',lr_train_rmse, lr_train_r2, lr_test_rmse, lr_test_r2]).transpose()\n",
    "lr_results.columns = ['Method','Training RMSE', 'Training R2','Test RMSE', 'Test R2']\n",
    "lr_results"
   ]
  },
  {
   "cell_type": "markdown",
   "metadata": {},
   "source": [
    "#### Полиномиальна регрессия"
   ]
  },
  {
   "cell_type": "code",
   "execution_count": 6,
   "metadata": {},
   "outputs": [
    {
     "data": {
      "text/html": [
       "<div>\n",
       "<style scoped>\n",
       "    .dataframe tbody tr th:only-of-type {\n",
       "        vertical-align: middle;\n",
       "    }\n",
       "\n",
       "    .dataframe tbody tr th {\n",
       "        vertical-align: top;\n",
       "    }\n",
       "\n",
       "    .dataframe thead th {\n",
       "        text-align: right;\n",
       "    }\n",
       "</style>\n",
       "<table border=\"1\" class=\"dataframe\">\n",
       "  <thead>\n",
       "    <tr style=\"text-align: right;\">\n",
       "      <th></th>\n",
       "      <th>Method</th>\n",
       "      <th>Training RMSE</th>\n",
       "      <th>Training R2</th>\n",
       "      <th>Test RMSE</th>\n",
       "      <th>Test R2</th>\n",
       "    </tr>\n",
       "  </thead>\n",
       "  <tbody>\n",
       "    <tr>\n",
       "      <th>0</th>\n",
       "      <td>Polynomial regression</td>\n",
       "      <td>0.18</td>\n",
       "      <td>0.952121</td>\n",
       "      <td>0.23</td>\n",
       "      <td>0.927563</td>\n",
       "    </tr>\n",
       "  </tbody>\n",
       "</table>\n",
       "</div>"
      ],
      "text/plain": [
       "                  Method Training RMSE Training R2 Test RMSE   Test R2\n",
       "0  Polynomial regression          0.18    0.952121      0.23  0.927563"
      ]
     },
     "execution_count": 6,
     "metadata": {},
     "output_type": "execute_result"
    }
   ],
   "source": [
    "#создание генератора полиномиальных признаков\n",
    "poly = PolynomialFeatures(degree=2, include_bias=False)\n",
    "\n",
    "#обучение\n",
    "poly.fit(X_train_scaled)\n",
    "#генерируем полиномиальные признаки\n",
    "X_train_scaled_poly = poly.transform(X_train_scaled)\n",
    "X_test_scaled_poly = poly.transform(X_test_scaled)\n",
    "\n",
    "#модель\n",
    "lr_model_poly = LinearRegression()\n",
    "\n",
    "#обучение\n",
    "lr_model_poly.fit(X_train_scaled_poly, y_train)\n",
    "#предсказание\n",
    "y_train_predict_poly = lr_model_poly.predict(X_train_scaled_poly)\n",
    "y_test_predict_poly = lr_model_poly.predict(X_test_scaled_poly)\n",
    "\n",
    "#расчёт показателей производительности модели RMSE и R2 (коэффициент детерминации)\n",
    "lr_poly_train_rmse = round(mean_squared_error(y_train, y_train_predict_poly)**.5, 2)\n",
    "lr_poly_train_r2 = r2_score(y_train, y_train_predict_poly)\n",
    "lr_poly_test_rmse = round(mean_squared_error(y_test, y_test_predict_poly)**.5, 2)\n",
    "lr_poly_test_r2 = r2_score(y_test, y_test_predict_poly)\n",
    "\n",
    "#отображение результатов\n",
    "lr_poly_results = pd.DataFrame(['Polynomial regression', lr_poly_train_rmse, lr_poly_train_r2, lr_poly_test_rmse, lr_poly_test_r2]).transpose()\n",
    "lr_poly_results.columns = ['Method','Training RMSE', 'Training R2','Test RMSE', 'Test R2']\n",
    "lr_poly_results"
   ]
  },
  {
   "cell_type": "markdown",
   "metadata": {},
   "source": [
    "#### Полиномиальная регрессия с L2-регуляризацией"
   ]
  },
  {
   "cell_type": "code",
   "execution_count": 7,
   "metadata": {},
   "outputs": [
    {
     "data": {
      "text/html": [
       "<div>\n",
       "<style scoped>\n",
       "    .dataframe tbody tr th:only-of-type {\n",
       "        vertical-align: middle;\n",
       "    }\n",
       "\n",
       "    .dataframe tbody tr th {\n",
       "        vertical-align: top;\n",
       "    }\n",
       "\n",
       "    .dataframe thead th {\n",
       "        text-align: right;\n",
       "    }\n",
       "</style>\n",
       "<table border=\"1\" class=\"dataframe\">\n",
       "  <thead>\n",
       "    <tr style=\"text-align: right;\">\n",
       "      <th></th>\n",
       "      <th>Method</th>\n",
       "      <th>Training RMSE</th>\n",
       "      <th>Training R2</th>\n",
       "      <th>Test RMSE</th>\n",
       "      <th>Test R2</th>\n",
       "    </tr>\n",
       "  </thead>\n",
       "  <tbody>\n",
       "    <tr>\n",
       "      <th>0</th>\n",
       "      <td>Polynomial regression with L2</td>\n",
       "      <td>0.2</td>\n",
       "      <td>0.93628</td>\n",
       "      <td>0.21</td>\n",
       "      <td>0.937714</td>\n",
       "    </tr>\n",
       "  </tbody>\n",
       "</table>\n",
       "</div>"
      ],
      "text/plain": [
       "                          Method Training RMSE Training R2 Test RMSE   Test R2\n",
       "0  Polynomial regression with L2           0.2     0.93628      0.21  0.937714"
      ]
     },
     "execution_count": 7,
     "metadata": {},
     "output_type": "execute_result"
    }
   ],
   "source": [
    "#cоздаём объект класса линейной регрессии с L2-регуляризацией\n",
    "ridge_lr_poly = Ridge(alpha=1.0)\n",
    "\n",
    "#обучение\n",
    "ridge_lr_poly.fit(X_train_scaled_poly, y_train)\n",
    "#предсказание\n",
    "y_train_predict_poly = ridge_lr_poly.predict(X_train_scaled_poly)\n",
    "y_test_predict_poly = ridge_lr_poly.predict(X_test_scaled_poly)\n",
    "\n",
    "#расчёт показателей производительности модели RMSE и R2 (коэффициент детерминации)\n",
    "ridge_lr_poly_train_rmse = round(mean_squared_error(y_train, y_train_predict_poly)**.5, 2)\n",
    "ridge_lr_poly_train_r2 = r2_score(y_train, y_train_predict_poly)\n",
    "ridge_lr_poly_test_rmse = round(mean_squared_error(y_test, y_test_predict_poly)**.5, 2)\n",
    "ridge_lr_poly_test_r2 = r2_score(y_test, y_test_predict_poly)\n",
    "\n",
    "#отображение результатов\n",
    "ridge_lr_poly_results = pd.DataFrame(['Polynomial regression with L2', ridge_lr_poly_train_rmse, ridge_lr_poly_train_r2, ridge_lr_poly_test_rmse, ridge_lr_poly_test_r2]).transpose()\n",
    "ridge_lr_poly_results.columns = ['Method','Training RMSE', 'Training R2','Test RMSE', 'Test R2']\n",
    "ridge_lr_poly_results"
   ]
  },
  {
   "cell_type": "markdown",
   "metadata": {},
   "source": [
    "#### Дерево решений"
   ]
  },
  {
   "cell_type": "code",
   "execution_count": 8,
   "metadata": {},
   "outputs": [],
   "source": [
    "#подберем оптимальные гиперпараметры max_depth и min_samples_leaf для алгоритма DecisionTreeRegressor\n",
    "param_grid_dtr = [\n",
    "              {'max_depth': [5, 8, 10],\n",
    "               'min_samples_leaf': [7, 8, 9]}\n",
    "]"
   ]
  },
  {
   "cell_type": "code",
   "execution_count": 11,
   "metadata": {},
   "outputs": [],
   "source": [
    "#используем метод поиска по сетке GridSearchCV с кросс-валидацией\n",
    "grid_search_dtr = GridSearchCV(\n",
    "    estimator=DecisionTreeRegressor(\n",
    "        random_state=42, #генератор случайных чисел\n",
    "    ), \n",
    "    param_grid=param_grid_dtr, \n",
    "    cv=5, \n",
    "    n_jobs = -1\n",
    ")"
   ]
  },
  {
   "cell_type": "code",
   "execution_count": 12,
   "metadata": {},
   "outputs": [
    {
     "data": {
      "text/html": [
       "<style>#sk-container-id-1 {color: black;background-color: white;}#sk-container-id-1 pre{padding: 0;}#sk-container-id-1 div.sk-toggleable {background-color: white;}#sk-container-id-1 label.sk-toggleable__label {cursor: pointer;display: block;width: 100%;margin-bottom: 0;padding: 0.3em;box-sizing: border-box;text-align: center;}#sk-container-id-1 label.sk-toggleable__label-arrow:before {content: \"▸\";float: left;margin-right: 0.25em;color: #696969;}#sk-container-id-1 label.sk-toggleable__label-arrow:hover:before {color: black;}#sk-container-id-1 div.sk-estimator:hover label.sk-toggleable__label-arrow:before {color: black;}#sk-container-id-1 div.sk-toggleable__content {max-height: 0;max-width: 0;overflow: hidden;text-align: left;background-color: #f0f8ff;}#sk-container-id-1 div.sk-toggleable__content pre {margin: 0.2em;color: black;border-radius: 0.25em;background-color: #f0f8ff;}#sk-container-id-1 input.sk-toggleable__control:checked~div.sk-toggleable__content {max-height: 200px;max-width: 100%;overflow: auto;}#sk-container-id-1 input.sk-toggleable__control:checked~label.sk-toggleable__label-arrow:before {content: \"▾\";}#sk-container-id-1 div.sk-estimator input.sk-toggleable__control:checked~label.sk-toggleable__label {background-color: #d4ebff;}#sk-container-id-1 div.sk-label input.sk-toggleable__control:checked~label.sk-toggleable__label {background-color: #d4ebff;}#sk-container-id-1 input.sk-hidden--visually {border: 0;clip: rect(1px 1px 1px 1px);clip: rect(1px, 1px, 1px, 1px);height: 1px;margin: -1px;overflow: hidden;padding: 0;position: absolute;width: 1px;}#sk-container-id-1 div.sk-estimator {font-family: monospace;background-color: #f0f8ff;border: 1px dotted black;border-radius: 0.25em;box-sizing: border-box;margin-bottom: 0.5em;}#sk-container-id-1 div.sk-estimator:hover {background-color: #d4ebff;}#sk-container-id-1 div.sk-parallel-item::after {content: \"\";width: 100%;border-bottom: 1px solid gray;flex-grow: 1;}#sk-container-id-1 div.sk-label:hover label.sk-toggleable__label {background-color: #d4ebff;}#sk-container-id-1 div.sk-serial::before {content: \"\";position: absolute;border-left: 1px solid gray;box-sizing: border-box;top: 0;bottom: 0;left: 50%;z-index: 0;}#sk-container-id-1 div.sk-serial {display: flex;flex-direction: column;align-items: center;background-color: white;padding-right: 0.2em;padding-left: 0.2em;position: relative;}#sk-container-id-1 div.sk-item {position: relative;z-index: 1;}#sk-container-id-1 div.sk-parallel {display: flex;align-items: stretch;justify-content: center;background-color: white;position: relative;}#sk-container-id-1 div.sk-item::before, #sk-container-id-1 div.sk-parallel-item::before {content: \"\";position: absolute;border-left: 1px solid gray;box-sizing: border-box;top: 0;bottom: 0;left: 50%;z-index: -1;}#sk-container-id-1 div.sk-parallel-item {display: flex;flex-direction: column;z-index: 1;position: relative;background-color: white;}#sk-container-id-1 div.sk-parallel-item:first-child::after {align-self: flex-end;width: 50%;}#sk-container-id-1 div.sk-parallel-item:last-child::after {align-self: flex-start;width: 50%;}#sk-container-id-1 div.sk-parallel-item:only-child::after {width: 0;}#sk-container-id-1 div.sk-dashed-wrapped {border: 1px dashed gray;margin: 0 0.4em 0.5em 0.4em;box-sizing: border-box;padding-bottom: 0.4em;background-color: white;}#sk-container-id-1 div.sk-label label {font-family: monospace;font-weight: bold;display: inline-block;line-height: 1.2em;}#sk-container-id-1 div.sk-label-container {text-align: center;}#sk-container-id-1 div.sk-container {/* jupyter's `normalize.less` sets `[hidden] { display: none; }` but bootstrap.min.css set `[hidden] { display: none !important; }` so we also need the `!important` here to be able to override the default hidden behavior on the sphinx rendered scikit-learn.org. See: https://github.com/scikit-learn/scikit-learn/issues/21755 */display: inline-block !important;position: relative;}#sk-container-id-1 div.sk-text-repr-fallback {display: none;}</style><div id=\"sk-container-id-1\" class=\"sk-top-container\"><div class=\"sk-text-repr-fallback\"><pre>GridSearchCV(cv=5, estimator=DecisionTreeRegressor(random_state=42), n_jobs=-1,\n",
       "             param_grid=[{&#x27;max_depth&#x27;: [5, 8, 10],\n",
       "                          &#x27;min_samples_leaf&#x27;: [7, 8, 9]}])</pre><b>In a Jupyter environment, please rerun this cell to show the HTML representation or trust the notebook. <br />On GitHub, the HTML representation is unable to render, please try loading this page with nbviewer.org.</b></div><div class=\"sk-container\" hidden><div class=\"sk-item sk-dashed-wrapped\"><div class=\"sk-label-container\"><div class=\"sk-label sk-toggleable\"><input class=\"sk-toggleable__control sk-hidden--visually\" id=\"sk-estimator-id-1\" type=\"checkbox\" ><label for=\"sk-estimator-id-1\" class=\"sk-toggleable__label sk-toggleable__label-arrow\">GridSearchCV</label><div class=\"sk-toggleable__content\"><pre>GridSearchCV(cv=5, estimator=DecisionTreeRegressor(random_state=42), n_jobs=-1,\n",
       "             param_grid=[{&#x27;max_depth&#x27;: [5, 8, 10],\n",
       "                          &#x27;min_samples_leaf&#x27;: [7, 8, 9]}])</pre></div></div></div><div class=\"sk-parallel\"><div class=\"sk-parallel-item\"><div class=\"sk-item\"><div class=\"sk-label-container\"><div class=\"sk-label sk-toggleable\"><input class=\"sk-toggleable__control sk-hidden--visually\" id=\"sk-estimator-id-2\" type=\"checkbox\" ><label for=\"sk-estimator-id-2\" class=\"sk-toggleable__label sk-toggleable__label-arrow\">estimator: DecisionTreeRegressor</label><div class=\"sk-toggleable__content\"><pre>DecisionTreeRegressor(random_state=42)</pre></div></div></div><div class=\"sk-serial\"><div class=\"sk-item\"><div class=\"sk-estimator sk-toggleable\"><input class=\"sk-toggleable__control sk-hidden--visually\" id=\"sk-estimator-id-3\" type=\"checkbox\" ><label for=\"sk-estimator-id-3\" class=\"sk-toggleable__label sk-toggleable__label-arrow\">DecisionTreeRegressor</label><div class=\"sk-toggleable__content\"><pre>DecisionTreeRegressor(random_state=42)</pre></div></div></div></div></div></div></div></div></div></div>"
      ],
      "text/plain": [
       "GridSearchCV(cv=5, estimator=DecisionTreeRegressor(random_state=42), n_jobs=-1,\n",
       "             param_grid=[{'max_depth': [5, 8, 10],\n",
       "                          'min_samples_leaf': [7, 8, 9]}])"
      ]
     },
     "execution_count": 12,
     "metadata": {},
     "output_type": "execute_result"
    }
   ],
   "source": [
    "#поиск наилучших параметров\n",
    "grid_search_dtr.fit(X_train_scaled, y_train) "
   ]
  },
  {
   "cell_type": "code",
   "execution_count": 13,
   "metadata": {},
   "outputs": [
    {
     "name": "stdout",
     "output_type": "stream",
     "text": [
      "Наилучшие значения параметров:\n",
      "{'max_depth': 5, 'min_samples_leaf': 7}\n"
     ]
    }
   ],
   "source": [
    "#наилучшие значения гиперпараметров\n",
    "print(\"Наилучшие значения параметров:\\n{}\".format(grid_search_dtr.best_params_))"
   ]
  },
  {
   "cell_type": "code",
   "execution_count": 14,
   "metadata": {},
   "outputs": [
    {
     "name": "stdout",
     "output_type": "stream",
     "text": [
      "Наилучшая модель:\n",
      "DecisionTreeRegressor(max_depth=5, min_samples_leaf=7, random_state=42)\n"
     ]
    }
   ],
   "source": [
    "#итоговая модель хранится в параметре best_estimator_, ей можно воспользоваться для получения прогнозов на новых данных:\n",
    "print(\"Наилучшая модель:\\n{}\".format(grid_search_dtr.best_estimator_))"
   ]
  },
  {
   "cell_type": "code",
   "execution_count": 15,
   "metadata": {},
   "outputs": [
    {
     "data": {
      "text/html": [
       "<div>\n",
       "<style scoped>\n",
       "    .dataframe tbody tr th:only-of-type {\n",
       "        vertical-align: middle;\n",
       "    }\n",
       "\n",
       "    .dataframe tbody tr th {\n",
       "        vertical-align: top;\n",
       "    }\n",
       "\n",
       "    .dataframe thead th {\n",
       "        text-align: right;\n",
       "    }\n",
       "</style>\n",
       "<table border=\"1\" class=\"dataframe\">\n",
       "  <thead>\n",
       "    <tr style=\"text-align: right;\">\n",
       "      <th></th>\n",
       "      <th>Method</th>\n",
       "      <th>Training RMSE</th>\n",
       "      <th>Training R2</th>\n",
       "      <th>Test RMSE</th>\n",
       "      <th>Test R2</th>\n",
       "    </tr>\n",
       "  </thead>\n",
       "  <tbody>\n",
       "    <tr>\n",
       "      <th>0</th>\n",
       "      <td>DecisionTreeRegressor</td>\n",
       "      <td>0.18</td>\n",
       "      <td>0.952979</td>\n",
       "      <td>0.09</td>\n",
       "      <td>0.987103</td>\n",
       "    </tr>\n",
       "  </tbody>\n",
       "</table>\n",
       "</div>"
      ],
      "text/plain": [
       "                  Method Training RMSE Training R2 Test RMSE   Test R2\n",
       "0  DecisionTreeRegressor          0.18    0.952979      0.09  0.987103"
      ]
     },
     "execution_count": 15,
     "metadata": {},
     "output_type": "execute_result"
    }
   ],
   "source": [
    "#модель\n",
    "dtr = DecisionTreeRegressor(max_depth = 5, min_samples_leaf = 7, random_state = 42)\n",
    "\n",
    "#обучение  \n",
    "dtr.fit(X_train_scaled, y_train)\n",
    "#предсказание\n",
    "y_train_pred_dtr = dtr.predict(X_train_scaled)\n",
    "y_test_pred_dtr = dtr.predict(X_test_scaled)\n",
    "\n",
    "#расчёт показателей производительности модели RMSE и R2 (коэффициент детерминации)\n",
    "dtr_train_rmse = round(mean_squared_error(y_train, y_train_pred_dtr)**.5, 2)\n",
    "dtr_train_r2 = r2_score(y_train, y_train_pred_dtr)\n",
    "dtr_test_rmse = round(mean_squared_error(y_test, y_test_pred_dtr)**.5, 2)\n",
    "dtr_test_r2 = r2_score(y_test, y_test_pred_dtr)\n",
    "\n",
    "#отображение результатов\n",
    "dtr_results = pd.DataFrame(['DecisionTreeRegressor', dtr_train_rmse, dtr_train_r2, dtr_test_rmse, dtr_test_r2]).transpose()\n",
    "dtr_results.columns = ['Method','Training RMSE', 'Training R2','Test RMSE', 'Test R2']\n",
    "dtr_results"
   ]
  },
  {
   "cell_type": "markdown",
   "metadata": {},
   "source": [
    "#### Случайный лес"
   ]
  },
  {
   "cell_type": "code",
   "execution_count": 16,
   "metadata": {},
   "outputs": [],
   "source": [
    "#подберем оптимальные гиперпараметры для алгоритма RandomForestRegressor\n",
    "param_grid_rf = [\n",
    "              {'max_depth': [4, 7, 10],\n",
    "               'min_samples_leaf': [4, 6, 8],\n",
    "               'n_estimators': [100, 200, 300]} \n",
    "]"
   ]
  },
  {
   "cell_type": "code",
   "execution_count": 18,
   "metadata": {},
   "outputs": [],
   "source": [
    "#используем метод поиска по сетке GridSearchCV с кросс-валидацией\n",
    "grid_search_rf = GridSearchCV(\n",
    "    estimator=RandomForestRegressor(\n",
    "        random_state=42, #генератор случайных чисел\n",
    "    ), \n",
    "    param_grid=param_grid_rf, \n",
    "    cv=5, \n",
    "    n_jobs = -1\n",
    ")"
   ]
  },
  {
   "cell_type": "code",
   "execution_count": 19,
   "metadata": {},
   "outputs": [
    {
     "data": {
      "text/html": [
       "<style>#sk-container-id-2 {color: black;background-color: white;}#sk-container-id-2 pre{padding: 0;}#sk-container-id-2 div.sk-toggleable {background-color: white;}#sk-container-id-2 label.sk-toggleable__label {cursor: pointer;display: block;width: 100%;margin-bottom: 0;padding: 0.3em;box-sizing: border-box;text-align: center;}#sk-container-id-2 label.sk-toggleable__label-arrow:before {content: \"▸\";float: left;margin-right: 0.25em;color: #696969;}#sk-container-id-2 label.sk-toggleable__label-arrow:hover:before {color: black;}#sk-container-id-2 div.sk-estimator:hover label.sk-toggleable__label-arrow:before {color: black;}#sk-container-id-2 div.sk-toggleable__content {max-height: 0;max-width: 0;overflow: hidden;text-align: left;background-color: #f0f8ff;}#sk-container-id-2 div.sk-toggleable__content pre {margin: 0.2em;color: black;border-radius: 0.25em;background-color: #f0f8ff;}#sk-container-id-2 input.sk-toggleable__control:checked~div.sk-toggleable__content {max-height: 200px;max-width: 100%;overflow: auto;}#sk-container-id-2 input.sk-toggleable__control:checked~label.sk-toggleable__label-arrow:before {content: \"▾\";}#sk-container-id-2 div.sk-estimator input.sk-toggleable__control:checked~label.sk-toggleable__label {background-color: #d4ebff;}#sk-container-id-2 div.sk-label input.sk-toggleable__control:checked~label.sk-toggleable__label {background-color: #d4ebff;}#sk-container-id-2 input.sk-hidden--visually {border: 0;clip: rect(1px 1px 1px 1px);clip: rect(1px, 1px, 1px, 1px);height: 1px;margin: -1px;overflow: hidden;padding: 0;position: absolute;width: 1px;}#sk-container-id-2 div.sk-estimator {font-family: monospace;background-color: #f0f8ff;border: 1px dotted black;border-radius: 0.25em;box-sizing: border-box;margin-bottom: 0.5em;}#sk-container-id-2 div.sk-estimator:hover {background-color: #d4ebff;}#sk-container-id-2 div.sk-parallel-item::after {content: \"\";width: 100%;border-bottom: 1px solid gray;flex-grow: 1;}#sk-container-id-2 div.sk-label:hover label.sk-toggleable__label {background-color: #d4ebff;}#sk-container-id-2 div.sk-serial::before {content: \"\";position: absolute;border-left: 1px solid gray;box-sizing: border-box;top: 0;bottom: 0;left: 50%;z-index: 0;}#sk-container-id-2 div.sk-serial {display: flex;flex-direction: column;align-items: center;background-color: white;padding-right: 0.2em;padding-left: 0.2em;position: relative;}#sk-container-id-2 div.sk-item {position: relative;z-index: 1;}#sk-container-id-2 div.sk-parallel {display: flex;align-items: stretch;justify-content: center;background-color: white;position: relative;}#sk-container-id-2 div.sk-item::before, #sk-container-id-2 div.sk-parallel-item::before {content: \"\";position: absolute;border-left: 1px solid gray;box-sizing: border-box;top: 0;bottom: 0;left: 50%;z-index: -1;}#sk-container-id-2 div.sk-parallel-item {display: flex;flex-direction: column;z-index: 1;position: relative;background-color: white;}#sk-container-id-2 div.sk-parallel-item:first-child::after {align-self: flex-end;width: 50%;}#sk-container-id-2 div.sk-parallel-item:last-child::after {align-self: flex-start;width: 50%;}#sk-container-id-2 div.sk-parallel-item:only-child::after {width: 0;}#sk-container-id-2 div.sk-dashed-wrapped {border: 1px dashed gray;margin: 0 0.4em 0.5em 0.4em;box-sizing: border-box;padding-bottom: 0.4em;background-color: white;}#sk-container-id-2 div.sk-label label {font-family: monospace;font-weight: bold;display: inline-block;line-height: 1.2em;}#sk-container-id-2 div.sk-label-container {text-align: center;}#sk-container-id-2 div.sk-container {/* jupyter's `normalize.less` sets `[hidden] { display: none; }` but bootstrap.min.css set `[hidden] { display: none !important; }` so we also need the `!important` here to be able to override the default hidden behavior on the sphinx rendered scikit-learn.org. See: https://github.com/scikit-learn/scikit-learn/issues/21755 */display: inline-block !important;position: relative;}#sk-container-id-2 div.sk-text-repr-fallback {display: none;}</style><div id=\"sk-container-id-2\" class=\"sk-top-container\"><div class=\"sk-text-repr-fallback\"><pre>GridSearchCV(cv=5, estimator=RandomForestRegressor(random_state=1), n_jobs=-1,\n",
       "             param_grid=[{&#x27;max_depth&#x27;: [4, 7, 10],\n",
       "                          &#x27;min_samples_leaf&#x27;: [4, 6, 8],\n",
       "                          &#x27;n_estimators&#x27;: [100, 200, 300]}])</pre><b>In a Jupyter environment, please rerun this cell to show the HTML representation or trust the notebook. <br />On GitHub, the HTML representation is unable to render, please try loading this page with nbviewer.org.</b></div><div class=\"sk-container\" hidden><div class=\"sk-item sk-dashed-wrapped\"><div class=\"sk-label-container\"><div class=\"sk-label sk-toggleable\"><input class=\"sk-toggleable__control sk-hidden--visually\" id=\"sk-estimator-id-4\" type=\"checkbox\" ><label for=\"sk-estimator-id-4\" class=\"sk-toggleable__label sk-toggleable__label-arrow\">GridSearchCV</label><div class=\"sk-toggleable__content\"><pre>GridSearchCV(cv=5, estimator=RandomForestRegressor(random_state=1), n_jobs=-1,\n",
       "             param_grid=[{&#x27;max_depth&#x27;: [4, 7, 10],\n",
       "                          &#x27;min_samples_leaf&#x27;: [4, 6, 8],\n",
       "                          &#x27;n_estimators&#x27;: [100, 200, 300]}])</pre></div></div></div><div class=\"sk-parallel\"><div class=\"sk-parallel-item\"><div class=\"sk-item\"><div class=\"sk-label-container\"><div class=\"sk-label sk-toggleable\"><input class=\"sk-toggleable__control sk-hidden--visually\" id=\"sk-estimator-id-5\" type=\"checkbox\" ><label for=\"sk-estimator-id-5\" class=\"sk-toggleable__label sk-toggleable__label-arrow\">estimator: RandomForestRegressor</label><div class=\"sk-toggleable__content\"><pre>RandomForestRegressor(random_state=1)</pre></div></div></div><div class=\"sk-serial\"><div class=\"sk-item\"><div class=\"sk-estimator sk-toggleable\"><input class=\"sk-toggleable__control sk-hidden--visually\" id=\"sk-estimator-id-6\" type=\"checkbox\" ><label for=\"sk-estimator-id-6\" class=\"sk-toggleable__label sk-toggleable__label-arrow\">RandomForestRegressor</label><div class=\"sk-toggleable__content\"><pre>RandomForestRegressor(random_state=1)</pre></div></div></div></div></div></div></div></div></div></div>"
      ],
      "text/plain": [
       "GridSearchCV(cv=5, estimator=RandomForestRegressor(random_state=1), n_jobs=-1,\n",
       "             param_grid=[{'max_depth': [4, 7, 10],\n",
       "                          'min_samples_leaf': [4, 6, 8],\n",
       "                          'n_estimators': [100, 200, 300]}])"
      ]
     },
     "execution_count": 19,
     "metadata": {},
     "output_type": "execute_result"
    }
   ],
   "source": [
    "#поиск наилучших параметров\n",
    "grid_search_rf.fit(X_train_scaled, y_train) "
   ]
  },
  {
   "cell_type": "code",
   "execution_count": 20,
   "metadata": {},
   "outputs": [
    {
     "name": "stdout",
     "output_type": "stream",
     "text": [
      "Наилучшие значения параметров:\n",
      "{'max_depth': 4, 'min_samples_leaf': 4, 'n_estimators': 100}\n"
     ]
    }
   ],
   "source": [
    "#наилучшие значения гиперпараметров\n",
    "print(\"Наилучшие значения параметров:\\n{}\".format(grid_search_rf.best_params_))"
   ]
  },
  {
   "cell_type": "code",
   "execution_count": 21,
   "metadata": {},
   "outputs": [
    {
     "name": "stdout",
     "output_type": "stream",
     "text": [
      "Наилучшая модель:\n",
      "RandomForestRegressor(max_depth=4, min_samples_leaf=4, random_state=1)\n"
     ]
    }
   ],
   "source": [
    "#итоговая модель хранится в параметре best_estimator_, ей можно воспользоваться для получения прогнозов на новых данных:\n",
    "print(\"Наилучшая модель:\\n{}\".format(grid_search_rf.best_estimator_))"
   ]
  },
  {
   "cell_type": "code",
   "execution_count": 22,
   "metadata": {},
   "outputs": [
    {
     "name": "stdout",
     "output_type": "stream",
     "text": [
      "CPU times: total: 156 ms\n",
      "Wall time: 139 ms\n"
     ]
    },
    {
     "data": {
      "text/html": [
       "<div>\n",
       "<style scoped>\n",
       "    .dataframe tbody tr th:only-of-type {\n",
       "        vertical-align: middle;\n",
       "    }\n",
       "\n",
       "    .dataframe tbody tr th {\n",
       "        vertical-align: top;\n",
       "    }\n",
       "\n",
       "    .dataframe thead th {\n",
       "        text-align: right;\n",
       "    }\n",
       "</style>\n",
       "<table border=\"1\" class=\"dataframe\">\n",
       "  <thead>\n",
       "    <tr style=\"text-align: right;\">\n",
       "      <th></th>\n",
       "      <th>Method</th>\n",
       "      <th>Training RMSE</th>\n",
       "      <th>Training R2</th>\n",
       "      <th>Test RMSE</th>\n",
       "      <th>Test R2</th>\n",
       "    </tr>\n",
       "  </thead>\n",
       "  <tbody>\n",
       "    <tr>\n",
       "      <th>0</th>\n",
       "      <td>RandomForestRegressor</td>\n",
       "      <td>0.16</td>\n",
       "      <td>0.962795</td>\n",
       "      <td>0.06</td>\n",
       "      <td>0.995303</td>\n",
       "    </tr>\n",
       "  </tbody>\n",
       "</table>\n",
       "</div>"
      ],
      "text/plain": [
       "                  Method Training RMSE Training R2 Test RMSE   Test R2\n",
       "0  RandomForestRegressor          0.16    0.962795      0.06  0.995303"
      ]
     },
     "execution_count": 22,
     "metadata": {},
     "output_type": "execute_result"
    }
   ],
   "source": [
    "#модель\n",
    "rf = RandomForestRegressor(\n",
    "    n_estimators = 100, \n",
    "    max_depth = 4, \n",
    "    criterion = 'squared_error',\n",
    "    min_samples_leaf = 4,\n",
    "    random_state = 1)\n",
    "\n",
    "#обучение\n",
    "%time rf.fit(X_train_scaled, y_train)\n",
    "\n",
    "#предсказание\n",
    "y_train_pred_rf = rf.predict(X_train_scaled)\n",
    "y_test_pred_rf = rf.predict(X_test_scaled)\n",
    "\n",
    "#расчёт показателей производительности модели RMSE и R2 (коэффициент детерминации)\n",
    "rf_train_rmse = round(mean_squared_error(y_train, y_train_pred_rf)**.5, 2)\n",
    "rf_train_r2 = r2_score(y_train, y_train_pred_rf)\n",
    "rf_test_rmse = round(mean_squared_error(y_test, y_test_pred_rf)**.5, 2)\n",
    "rf_test_r2 = r2_score(y_test, y_test_pred_rf)\n",
    "\n",
    "#отображение результатов\n",
    "rf_results = pd.DataFrame(['RandomForestRegressor', rf_train_rmse, rf_train_r2, rf_test_rmse, rf_test_r2]).transpose()\n",
    "rf_results.columns = ['Method','Training RMSE', 'Training R2','Test RMSE', 'Test R2']\n",
    "rf_results"
   ]
  },
  {
   "cell_type": "markdown",
   "metadata": {},
   "source": [
    "### <span style=\"color:green\"> *Наилучший результат показала модель Случайного леса* </span>"
   ]
  },
  {
   "cell_type": "markdown",
   "metadata": {},
   "source": [
    "### **Разработка веб-сервиса по прогнозированию стоимости недвижимости**"
   ]
  },
  {
   "cell_type": "code",
   "execution_count": 23,
   "metadata": {},
   "outputs": [],
   "source": [
    "#для вывода модели в продакшен производим сериализацию модели Случайного леса (rf) и записываем результат в файл формата pkl\n",
    "#параметром 'wb', мы сообщаем программе, что хотим записать(w) двоичные данные(b)\n",
    "with open('my_model_file.pkl', 'wb') as output:\n",
    "    pickle.dump(rf, output)"
   ]
  },
  {
   "cell_type": "code",
   "execution_count": null,
   "metadata": {},
   "outputs": [],
   "source": [
    "#код клиентского приложения, выполняющего POST-запрос (файл client.py)\n",
    "import requests\n",
    "\n",
    "if __name__ == '__main__':\n",
    "    # выполняем POST-запрос на сервер по эндпоинту predict с параметром json (количество элементов в массиве равно количеству признаков в модели)\n",
    "    r = requests.post('http://localhost:5000/predict', json={'parametrs': [1, 5, 12, 3]})\n",
    "    # выводим статус запроса\n",
    "    print(r.status_code)\n",
    "    # реализуем обработку результата\n",
    "    if r.status_code == 200:\n",
    "        # если запрос выполнен успешно (код обработки=200),\n",
    "        # выводим результат на экран\n",
    "        print(r.json()['prediction'])\n",
    "    else:\n",
    "        # если запрос завершён с кодом, отличным от 200,\n",
    "        # выводим содержимое ответа\n",
    "        print(r.text)"
   ]
  },
  {
   "cell_type": "code",
   "execution_count": 25,
   "metadata": {},
   "outputs": [
    {
     "name": "stdout",
     "output_type": "stream",
     "text": [
      " * Serving Flask app '__main__'\n",
      " * Debug mode: off\n"
     ]
    },
    {
     "name": "stderr",
     "output_type": "stream",
     "text": [
      "WARNING: This is a development server. Do not use it in a production deployment. Use a production WSGI server instead.\n",
      " * Running on http://localhost:5000\n",
      "Press CTRL+C to quit\n"
     ]
    },
    {
     "name": "stderr",
     "output_type": "stream",
     "text": [
      "127.0.0.1 - - [29/Sep/2023 16:31:30] \"POST /predict HTTP/1.1\" 200 -\n"
     ]
    }
   ],
   "source": [
    "#деплой модели на веб-сервис\n",
    "\n",
    "#десериализация pkl-файла, содержашего модель\n",
    "with open('my_model_file.pkl', 'rb') as pkl_file: \n",
    "    model = pickle.load(pkl_file)\n",
    "\n",
    "#создание объекта Flask-приложения\n",
    "app = Flask(__name__)\n",
    "\n",
    "#укажем, что функция-декоратор обрабатывает метод POST\n",
    "@app.route('/predict', methods=['POST'])\n",
    "#функция-обработчик POST-запроса, который будет читать тело запроса в JSON-формате и составлять ответ на основе его содержимого\n",
    "def predict():\n",
    "    #извлекаем значения признаков из запроса и оборачиваем их в массив\n",
    "    features = np.array(request.json.get('parametrs'))\n",
    "    #метод predict принимает на вход numpy-массив размерности (кол-во объектов; кол-во признаков), переводим входные данные в вектор с помощью reshape\n",
    "    features = features.reshape(1, 4)\n",
    "    #делаем предсказание методом predict\n",
    "    prediction = model.predict(features)\n",
    "    #функцией jsonify преобразовываем словарь в ответ в формате JSON, извлекая результат из полученного массива, обратившись по индексу 0\n",
    "    return  jsonify({'prediction': prediction[0]})\n",
    "\n",
    "#запускаем сервер на порте 5000 локальной машины\n",
    "if __name__ == '__main__':\n",
    "    \n",
    "    app.run('localhost', 5000)"
   ]
  },
  {
   "cell_type": "markdown",
   "metadata": {},
   "source": [
    "Запускаем код клиентского приложения параллельно работающему серверу в новом терминале, используя команду: **python client.py**\n",
    "\n",
    "Получаем результат вида:\n",
    "\n",
    "**200**\n",
    "\n",
    "**405034.53**\n",
    "\n",
    "где\n",
    "\n",
    "*200* - код успешной обработки запроса\n",
    "\n",
    "*405034.53* - результат запроса (стоимость недвижимости, рассчитанная моделью по введенным значениям признаков)"
   ]
  }
 ],
 "metadata": {
  "kernelspec": {
   "display_name": "Python 3",
   "language": "python",
   "name": "python3"
  },
  "language_info": {
   "codemirror_mode": {
    "name": "ipython",
    "version": 3
   },
   "file_extension": ".py",
   "mimetype": "text/x-python",
   "name": "python",
   "nbconvert_exporter": "python",
   "pygments_lexer": "ipython3",
   "version": "3.9.10"
  },
  "orig_nbformat": 4
 },
 "nbformat": 4,
 "nbformat_minor": 2
}
